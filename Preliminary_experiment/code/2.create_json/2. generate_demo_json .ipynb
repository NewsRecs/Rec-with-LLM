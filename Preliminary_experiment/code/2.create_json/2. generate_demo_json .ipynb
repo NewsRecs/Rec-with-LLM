{
 "cells": [
  {
   "cell_type": "markdown",
   "metadata": {},
   "source": [
    "## 라이브러리 & Instuction 정의"
   ]
  },
  {
   "cell_type": "code",
   "execution_count": 5,
   "metadata": {},
   "outputs": [],
   "source": [
    "import os\n",
    "import re\n",
    "import random\n",
    "import json\n",
    "\n",
    "instruction_demo_negative = \"\"\"\n",
    "You are a recommendation bot responsible for selecting the news article that the target user is most likely to prefer from a list of five candidate articles. The only information available for each candidate article is its title, which is written in Norwegian.\n",
    "Your goal is to predict the index number of the news article that best fits in the position labeled [MASK].\n",
    "\"\"\""
   ]
  },
  {
   "cell_type": "markdown",
   "metadata": {},
   "source": [
    "## 함수 정의"
   ]
  },
  {
   "cell_type": "code",
   "execution_count": 8,
   "metadata": {},
   "outputs": [],
   "source": [
    "def create_json(purpose, u_numbers, file_name, target_folder):\n",
    "    \"\"\"\n",
    "    JSONL 파일 생성 함수\n",
    "    \"\"\"\n",
    "\n",
    "    target_folder = f'prompts/{target_folder}'\n",
    "    data_dir = f'{target_folder}/{purpose}'\n",
    "    metadata_dir = os.path.join(data_dir, 'metadata')\n",
    "    positions_file = os.path.join(metadata_dir, 'hidden_positions.txt')\n",
    "\n",
    "    instruction = instruction_demo_negative\n",
    "\n",
    "    # hidden_positions.txt 읽기\n",
    "    hidden_positions = {}\n",
    "    with open(positions_file, 'r', encoding='utf-8') as f:\n",
    "        for line in f:\n",
    "            line = line.strip()\n",
    "            if not line:\n",
    "                continue\n",
    "            match = re.match(r'(U\\d+)\\s*:\\s*\\[([^\\]]+)\\]', line)\n",
    "            if match:\n",
    "                user_id = match.group(1)\n",
    "                positions_str = match.group(2)\n",
    "                positions = [int(pos.strip()) for pos in positions_str.split(',')]\n",
    "                hidden_positions[user_id] = positions\n",
    "\n",
    "    data = []\n",
    "    for u_num in u_numbers:\n",
    "        user_id = f'U{u_num}'\n",
    "        user_file = f'{user_id}.txt'\n",
    "        user_file_path = os.path.join(data_dir, user_file)\n",
    "        if not os.path.exists(user_file_path):\n",
    "            continue\n",
    "\n",
    "        with open(user_file_path, 'r', encoding='utf-8') as f:\n",
    "            prompt = f.read()\n",
    "\n",
    "        # 정규식 패턴 수정: User #U?\\d+ 형태 매칭\n",
    "        question_pattern = re.compile(\n",
    "            r'User #U?\\d+\\s+prefers\\s+most\\s+\\[MASK\\]\\s+among\\s+the\\s+following\\s+five\\s+articles:\\s*'\n",
    "            r'(1:[^\\n]+)\\s*'\n",
    "            r'(2:[^\\n]+)\\s*'\n",
    "            r'(3:[^\\n]+)\\s*'\n",
    "            r'(4:[^\\n]+)\\s*'\n",
    "            r'(5:[^\\n]+)\\s*'\n",
    "            r'Question\\s+(\\d+)\\.\\s*The index number of the \\[MASK\\] is \\?',\n",
    "            re.DOTALL\n",
    "        )\n",
    "\n",
    "        matches = list(re.finditer(question_pattern, prompt))\n",
    "        if not matches:\n",
    "            continue\n",
    "\n",
    "        questions = {}\n",
    "        for m in matches:\n",
    "            q_num = int(m.group(6))\n",
    "            q_content = '\\n'.join([m.group(i) for i in range(1,6)])\n",
    "            questions[q_num] = q_content\n",
    "\n",
    "        # 해당 사용자의 정답 위치 가져오기\n",
    "        positions = hidden_positions.get(user_id, [])\n",
    "        assistant_content_lines = []\n",
    "        for idx, (q_num, q_content) in enumerate(sorted(questions.items())):\n",
    "            if idx < len(positions):\n",
    "                correct_position = positions[idx]\n",
    "            else:\n",
    "                correct_position = random.randint(1, 5)\n",
    "            assistant_content_lines.append(f\"Question {q_num}: {correct_position}\")\n",
    "\n",
    "        assistant_content = '\\n'.join(assistant_content_lines)\n",
    "\n",
    "        data_entry = {\n",
    "            \"messages\": [\n",
    "                {\"role\": \"system\", \"content\": instruction},\n",
    "                {\"role\": \"user\", \"content\": prompt},\n",
    "                {\"role\": \"assistant\", \"content\": assistant_content}\n",
    "            ]\n",
    "        }\n",
    "        data.append(data_entry)\n",
    "\n",
    "    output_file = f'gpt_finetuning_data/{file_name}'\n",
    "    with open(output_file, 'w', encoding='utf-8') as f:\n",
    "        for data_entry in data:\n",
    "            json_line = json.dumps(data_entry, ensure_ascii=False)\n",
    "            f.write(json_line + '\\n')\n",
    "\n",
    "    print(f\"처리된 데이터가 {output_file}으로 저장되었습니다.\")"
   ]
  },
  {
   "cell_type": "markdown",
   "metadata": {},
   "source": [
    "## 실행"
   ]
  },
  {
   "cell_type": "code",
   "execution_count": 9,
   "metadata": {},
   "outputs": [
    {
     "name": "stdout",
     "output_type": "stream",
     "text": [
      "처리된 데이터가 gpt_finetuning_data/[241216] train_negative_demo.jsonl으로 저장되었습니다.\n",
      "처리된 데이터가 gpt_finetuning_data/[241216] val_negative_demo.jsonl으로 저장되었습니다.\n"
     ]
    }
   ],
   "source": [
    "train_numbers = [i for i in range(15001,15056)]\n",
    "val_numbers = [i for i in range(15056,15071)]\n",
    "\n",
    "create_json(purpose='with_negative', \n",
    "            u_numbers=train_numbers, \n",
    "            file_name=\"[241216] train_negative_demo.jsonl\", \n",
    "            target_folder='[241216] user_prompts_demo_fine'\n",
    "            )\n",
    "\n",
    "create_json(purpose='with_negative', \n",
    "            u_numbers=val_numbers, \n",
    "            file_name=\"[241216] val_negative_demo.jsonl\", \n",
    "            target_folder=\"[241216] user_prompts_demo_fine\"\n",
    "            )"
   ]
  },
  {
   "cell_type": "code",
   "execution_count": null,
   "metadata": {},
   "outputs": [],
   "source": []
  }
 ],
 "metadata": {
  "kernelspec": {
   "display_name": "coongya11",
   "language": "python",
   "name": "python3"
  },
  "language_info": {
   "codemirror_mode": {
    "name": "ipython",
    "version": 3
   },
   "file_extension": ".py",
   "mimetype": "text/x-python",
   "name": "python",
   "nbconvert_exporter": "python",
   "pygments_lexer": "ipython3",
   "version": "3.11.8"
  }
 },
 "nbformat": 4,
 "nbformat_minor": 2
}
