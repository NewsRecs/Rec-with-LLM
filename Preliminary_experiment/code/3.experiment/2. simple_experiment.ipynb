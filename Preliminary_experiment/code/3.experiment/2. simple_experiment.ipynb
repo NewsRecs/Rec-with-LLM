{
 "cells": [
  {
   "cell_type": "markdown",
   "metadata": {},
   "source": [
    "## 라이브러리 & API Key 정의"
   ]
  },
  {
   "cell_type": "code",
   "execution_count": 3,
   "metadata": {},
   "outputs": [],
   "source": [
    "from openai import OpenAI\n",
    "from dotenv import load_dotenv\n",
    "import os\n",
    "import re\n",
    "\n",
    "load_dotenv() # .env 파일 로드\n",
    "my_api_key = os.getenv(\"API_KEY\") # 환경 변수에서 API 키 불러오기\n",
    "\n",
    "client = OpenAI(\n",
    "    api_key = my_api_key\n",
    ")"
   ]
  },
  {
   "cell_type": "markdown",
   "metadata": {},
   "source": [
    "## Instuction 정의"
   ]
  },
  {
   "cell_type": "code",
   "execution_count": 5,
   "metadata": {},
   "outputs": [],
   "source": [
    "# negative용\n",
    "instruction_1 = \"\"\"\n",
    "You are a recommendation bot responsible for selecting the news article that the target user is most likely to prefer from a list of five candidate articles. The only information available for each candidate article is its title, which is written in Norwegian.\n",
    "\n",
    "Your goal is to predict the index number of the news article that best fits in the position labeled [MASK].\n",
    "\"\"\"\n",
    "\n",
    "instruction_negative = \"\"\"\n",
    "You are a bot that identifies users' news interests from [News of Interest to the user], then based on this, predicts the index number of news in [Questions] that best fits in the position labeled [MASK].\n",
    "\n",
    "News is provided by title only.\n",
    "News is Norwegian news in Norwegian.\n",
    "\n",
    "There can be multiple lists in [News of Interest to the user], each with five news items.\n",
    "Among the five news in each list, there is one news that the user is most interested in.\n",
    "\n",
    "[Questions] can have multiple questions, each of which must be answered.\n",
    "The answer should return only one news that the user is most likely to read.\n",
    "\"\"\"\n",
    "\n",
    "instruction_positive = \"\"\"\n",
    "You are a bot that identifies users' news interests from [Click History], then based on this, predicts the index number of news in [Questions] that best fits in the position labeled [MASK].\n",
    "\n",
    "News is provided by title only.\n",
    "News is Norwegian news in Norwegian.\n",
    "\n",
    "[Questions] can have multiple questions, each of which must be answered.\n",
    "The answer should return only one news that the user is most likely to read.\n",
    "\"\"\""
   ]
  },
  {
   "cell_type": "markdown",
   "metadata": {},
   "source": [
    "## inference 함수 정의"
   ]
  },
  {
   "cell_type": "code",
   "execution_count": 2,
   "metadata": {},
   "outputs": [],
   "source": [
    "def inference(purpose, target_folder, result_file_name, gpt_model, user_list, max_attempts):\n",
    "\n",
    "    # instruction 정의\n",
    "    if purpose == 'with_negative': \n",
    "        instruction = instruction_negative\n",
    "    elif purpose == 'only_positive':\n",
    "        instruction = instruction_positive\n",
    "\n",
    "    # User Prompt가 위치한 폴더 및 metadata 파일 경로 설정\n",
    "    target_folder = f'../../prompts/{target_folder}'\n",
    "    directory = f'{target_folder}/{purpose}'\n",
    "    meta_file_path = f'{target_folder}/{purpose}/metadata/output_metadata.txt'\n",
    "    user_question_counts = {}\n",
    "    \n",
    "    # metadata 파일을 읽어 user별 question 수 저장\n",
    "    with open(meta_file_path, 'r', encoding='utf-8') as meta_file:\n",
    "        for line in meta_file:\n",
    "            match = re.match(r'User ID:\\s*U(\\d+).*Question 수:\\s*(\\d+)', line)\n",
    "            if match:\n",
    "                user_id = int(match.group(1))\n",
    "                question_count = int(match.group(2))\n",
    "                user_question_counts[user_id] = question_count\n",
    "\n",
    "    # 실험 실행\n",
    "    with open(f'../../results/gpt_result/{result_file_name}', 'w', encoding='utf-8') as result_file:\n",
    "        # user list에서 각 user에 대해 처리\n",
    "        for cnt, i in enumerate(user_list):\n",
    "            filename = f'U{i}.txt'\n",
    "            filepath = os.path.join(directory, filename)\n",
    "            \n",
    "            # 파일 존재 여부 확인\n",
    "            if os.path.isfile(filepath):\n",
    "                # 파일 내용 읽기\n",
    "                with open(filepath, 'r', encoding='utf-8') as f:\n",
    "                    contents = f.read()\n",
    "\n",
    "                # user의 question 수 설정\n",
    "                expected_question_count = user_question_counts.get(i)\n",
    "                if expected_question_count is None:\n",
    "                    print(f\"사용자 U{i}의 질문 수를 찾을 수 없습니다.\")\n",
    "                    continue  # 다음 사용자로 넘어감\n",
    "                \n",
    "                # API 요청 준비\n",
    "                initial_messages = [\n",
    "                    {\"role\": \"system\", \"content\": instruction},\n",
    "                    {\"role\": \"user\", \"content\": contents}\n",
    "                ]\n",
    "                messages = initial_messages.copy()\n",
    "                attempt = 0\n",
    "\n",
    "                # 최대 시도 횟수를 넘지 않았으면 실행\n",
    "                while attempt < max_attempts:\n",
    "                    attempt += 1\n",
    "                    # API 호출\n",
    "                    try:\n",
    "                        response = client.chat.completions.create(\n",
    "                            model=gpt_model,\n",
    "                            messages=messages\n",
    "                        )\n",
    "                    except Exception as e:\n",
    "                        print(f\"API 호출 중 오류 발생 (사용자 {i}): {e}\")\n",
    "                        break  # 다음 사용자로 넘어감\n",
    "                    \n",
    "                    # 응답 내용 추출\n",
    "                    response_text = response.choices[0].message.content.strip()\n",
    "                    \n",
    "                    \n",
    "                    result_file.write(f'[U{i}]\\n')\n",
    "                    result_file.write(response_text + '\\n\\n')\n",
    "                    if (cnt+1) % 20 == 0:\n",
    "                        print(f'☆ {purpose} U{i} 까지 완료 [{cnt+1}/{len(user_list)}] ☆')  \n",
    "                    break  # 루프 종료\n",
    "                    \n",
    "            else:\n",
    "                print(f'파일 {filepath} 이 존재하지 않습니다.')\n",
    "        print(f'{purpose} 완료 : {result_file_name}\\n')\n"
   ]
  },
  {
   "cell_type": "code",
   "execution_count": 7,
   "metadata": {},
   "outputs": [
    {
     "name": "stdout",
     "output_type": "stream",
     "text": [
      "with_negative 완료 : [241230-5] negative_2_2.txt\n",
      "\n"
     ]
    }
   ],
   "source": [
    "user_range = 1000\n",
    "users = [i for i in range(1, user_range + 1)]\n",
    "\n",
    "users = [123, 191, 198, 322, 432, 556, 608, 950]\n",
    "\n",
    "# # 실행\n",
    "# inference(purpose='only_positive', \n",
    "#           target_folder='[241227-3] 1~1000', \n",
    "#           result_file_name='[241227-3] positive2.txt',\n",
    "#           gpt_model='gpt-4o-mini', \n",
    "#           user_list=users, \n",
    "#           max_attempts=1\n",
    "#           )\n",
    "\n",
    "inference(purpose='with_negative', \n",
    "          target_folder='[241230-5] 1~1000',\n",
    "          result_file_name='[241230-5] negative_2_2.txt',\n",
    "          gpt_model='gpt-4o-mini', \n",
    "          user_list=users, \n",
    "          max_attempts=1\n",
    "          )"
   ]
  },
  {
   "cell_type": "code",
   "execution_count": null,
   "metadata": {},
   "outputs": [],
   "source": []
  }
 ],
 "metadata": {
  "kernelspec": {
   "display_name": "coongya11",
   "language": "python",
   "name": "python3"
  },
  "language_info": {
   "codemirror_mode": {
    "name": "ipython",
    "version": 3
   },
   "file_extension": ".py",
   "mimetype": "text/x-python",
   "name": "python",
   "nbconvert_exporter": "python",
   "pygments_lexer": "ipython3",
   "version": "3.11.8"
  }
 },
 "nbformat": 4,
 "nbformat_minor": 2
}
