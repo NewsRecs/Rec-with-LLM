{
 "cells": [
  {
   "cell_type": "code",
   "execution_count": 1,
   "metadata": {},
   "outputs": [],
   "source": [
    "import re\n",
    "\n",
    "forder = \"[top1] test_ns4 15001~15500\"\n",
    "purpose = \"with_negative\"\n",
    "\n",
    "output_metadata = f\"prompts/{forder}/{purpose}/metadata/output_metadata.txt\" "
   ]
  },
  {
   "cell_type": "markdown",
   "metadata": {},
   "source": [
    "### token수만 계산"
   ]
  },
  {
   "cell_type": "code",
   "execution_count": 2,
   "metadata": {},
   "outputs": [
    {
     "name": "stdout",
     "output_type": "stream",
     "text": [
      "\n",
      "Input Tokens 합: 0\n",
      "Output Tokens 합: 0\n"
     ]
    }
   ],
   "source": [
    "def process_user_data(filename, start_user, end_user):\n",
    "    input_tokens_sum = 0\n",
    "    output_tokens_sum = 0\n",
    "    user_data = []\n",
    "    \n",
    "    with open(filename, 'r') as file:\n",
    "        lines = file.readlines()\n",
    "        start_found = False\n",
    "        \n",
    "        for line in lines:\n",
    "            if start_user in line:\n",
    "                start_found = True\n",
    "            \n",
    "            if start_found:\n",
    "                user_data.append(line.strip())\n",
    "                parts = line.split()\n",
    "                input_tokens = int(parts[5])\n",
    "                output_tokens = int(parts[8])\n",
    "                input_tokens_sum += input_tokens\n",
    "                output_tokens_sum += output_tokens\n",
    "                \n",
    "            if end_user in line:\n",
    "                break\n",
    "\n",
    "    # 결과 출력\n",
    "    for data in user_data:\n",
    "        print(data)\n",
    "    print(f\"\\nInput Tokens 합: {input_tokens_sum}\")\n",
    "    print(f\"Output Tokens 합: {output_tokens_sum}\")\n",
    "\n",
    "\n",
    "    \n",
    "\n",
    "# 파일 경로 및 USER 범위 지정\n",
    "start_user = 'U1001'\n",
    "end_user = 'U1050'\n",
    "process_user_data(output_metadata, start_user, end_user)"
   ]
  },
  {
   "cell_type": "markdown",
   "metadata": {},
   "source": [
    "### token수 오름차순 정렬 (상위 N개)"
   ]
  },
  {
   "cell_type": "code",
   "execution_count": 6,
   "metadata": {},
   "outputs": [
    {
     "name": "stdout",
     "output_type": "stream",
     "text": [
      "1. ID: 15141  Input Tokens: 816  Output Tokens: 1   History 수: 4   Question 수: 1\n",
      "2. ID: 15235  Input Tokens: 841  Output Tokens: 1   History 수: 4   Question 수: 1\n",
      "3. ID: 15290  Input Tokens: 867  Output Tokens: 1   History 수: 4   Question 수: 1\n",
      "4. ID: 15485  Input Tokens: 917  Output Tokens: 2   History 수: 3   Question 수: 2\n",
      "5. ID: 15270  Input Tokens: 976  Output Tokens: 1   History 수: 5   Question 수: 1\n",
      "6. ID: 15294  Input Tokens: 1033  Output Tokens: 2   History 수: 4   Question 수: 2\n",
      "7. ID: 15458  Input Tokens: 1070  Output Tokens: 1   History 수: 5   Question 수: 1\n",
      "8. ID: 15041  Input Tokens: 1170  Output Tokens: 2   History 수: 5   Question 수: 2\n",
      "9. ID: 15253  Input Tokens: 1239  Output Tokens: 2   History 수: 5   Question 수: 2\n",
      "10. ID: 15331  Input Tokens: 1251  Output Tokens: 1   History 수: 6   Question 수: 1\n",
      "11. ID: 15298  Input Tokens: 1257  Output Tokens: 1   History 수: 6   Question 수: 1\n",
      "12. ID: 15487  Input Tokens: 1267  Output Tokens: 4   History 수: 4   Question 수: 4\n",
      "13. ID: 15052  Input Tokens: 1298  Output Tokens: 2   History 수: 6   Question 수: 2\n",
      "14. ID: 15321  Input Tokens: 1307  Output Tokens: 1   History 수: 7   Question 수: 1\n",
      "15. ID: 15014  Input Tokens: 1379  Output Tokens: 1   History 수: 7   Question 수: 1\n",
      "16. ID: 15205  Input Tokens: 1483  Output Tokens: 3   History 수: 6   Question 수: 3\n",
      "17. ID: 15003  Input Tokens: 1484  Output Tokens: 2   History 수: 7   Question 수: 2\n",
      "18. ID: 15231  Input Tokens: 1501  Output Tokens: 2   History 수: 7   Question 수: 2\n",
      "19. ID: 15167  Input Tokens: 1557  Output Tokens: 2   History 수: 7   Question 수: 2\n",
      "20. ID: 15046  Input Tokens: 1580  Output Tokens: 2   History 수: 7   Question 수: 2\n",
      "21. ID: 15429  Input Tokens: 1606  Output Tokens: 3   History 수: 7   Question 수: 3\n",
      "22. ID: 15246  Input Tokens: 1630  Output Tokens: 3   History 수: 7   Question 수: 3\n",
      "23. ID: 15130  Input Tokens: 1638  Output Tokens: 1   History 수: 9   Question 수: 1\n",
      "24. ID: 15053  Input Tokens: 1685  Output Tokens: 2   History 수: 9   Question 수: 2\n",
      "25. ID: 15224  Input Tokens: 1693  Output Tokens: 2   History 수: 8   Question 수: 2\n",
      "26. ID: 15378  Input Tokens: 1697  Output Tokens: 3   History 수: 7   Question 수: 3\n",
      "27. ID: 15418  Input Tokens: 1705  Output Tokens: 1   History 수: 9   Question 수: 1\n",
      "28. ID: 15340  Input Tokens: 1726  Output Tokens: 1   History 수: 9   Question 수: 1\n",
      "29. ID: 15425  Input Tokens: 1783  Output Tokens: 3   History 수: 8   Question 수: 3\n",
      "30. ID: 15360  Input Tokens: 1808  Output Tokens: 1   History 수: 10   Question 수: 1\n",
      "31. ID: 15013  Input Tokens: 1831  Output Tokens: 3   History 수: 8   Question 수: 3\n",
      "32. ID: 15291  Input Tokens: 1893  Output Tokens: 3   History 수: 8   Question 수: 3\n",
      "33. ID: 15257  Input Tokens: 1932  Output Tokens: 1   History 수: 10   Question 수: 1\n",
      "34. ID: 15185  Input Tokens: 1999  Output Tokens: 5   History 수: 7   Question 수: 5\n",
      "35. ID: 15072  Input Tokens: 2012  Output Tokens: 1   History 수: 11   Question 수: 1\n",
      "36. ID: 15251  Input Tokens: 2033  Output Tokens: 1   History 수: 11   Question 수: 1\n",
      "37. ID: 15310  Input Tokens: 2042  Output Tokens: 1   History 수: 11   Question 수: 1\n",
      "38. ID: 15196  Input Tokens: 2066  Output Tokens: 4   History 수: 8   Question 수: 4\n",
      "39. ID: 15016  Input Tokens: 2070  Output Tokens: 3   History 수: 10   Question 수: 3\n",
      "40. ID: 15162  Input Tokens: 2101  Output Tokens: 2   History 수: 11   Question 수: 2\n",
      "41. ID: 15268  Input Tokens: 2130  Output Tokens: 2   History 수: 11   Question 수: 2\n",
      "42. ID: 15176  Input Tokens: 2144  Output Tokens: 3   History 수: 10   Question 수: 3\n",
      "43. ID: 15065  Input Tokens: 2158  Output Tokens: 8   History 수: 6   Question 수: 8\n",
      "44. ID: 15104  Input Tokens: 2206  Output Tokens: 1   History 수: 12   Question 수: 1\n",
      "45. ID: 15023  Input Tokens: 2222  Output Tokens: 3   History 수: 10   Question 수: 3\n",
      "46. ID: 15222  Input Tokens: 2233  Output Tokens: 5   History 수: 9   Question 수: 5\n",
      "47. ID: 15376  Input Tokens: 2247  Output Tokens: 2   History 수: 12   Question 수: 2\n",
      "48. ID: 15027  Input Tokens: 2248  Output Tokens: 3   History 수: 10   Question 수: 3\n",
      "49. ID: 15357  Input Tokens: 2269  Output Tokens: 4   History 수: 10   Question 수: 4\n",
      "50. ID: 15476  Input Tokens: 2271  Output Tokens: 2   History 수: 12   Question 수: 2\n",
      "51. ID: 15497  Input Tokens: 2273  Output Tokens: 3   History 수: 11   Question 수: 3\n",
      "52. ID: 15215  Input Tokens: 2346  Output Tokens: 3   History 수: 11   Question 수: 3\n",
      "53. ID: 15245  Input Tokens: 2383  Output Tokens: 1   History 수: 13   Question 수: 1\n",
      "54. ID: 15393  Input Tokens: 2435  Output Tokens: 4   History 수: 10   Question 수: 4\n",
      "55. ID: 15254  Input Tokens: 2453  Output Tokens: 3   History 수: 13   Question 수: 3\n",
      "\n",
      "Total Input Tokens: 95261\n",
      "Total Output Tokens: 125\n",
      "\n",
      "list = [15141, 15235, 15290, 15485, 15270, 15294, 15458, 15041, 15253, 15331, 15298, 15487, 15052, 15321, 15014, 15205, 15003, 15231, 15167, 15046, 15429, 15246, 15130, 15053, 15224, 15378, 15418, 15340, 15425, 15360, 15013, 15291, 15257, 15185, 15072, 15251, 15310, 15196, 15016, 15162, 15268, 15176, 15065, 15104, 15023, 15222, 15376, 15027, 15357, 15476, 15497, 15215, 15245, 15393, 15254]\n"
     ]
    }
   ],
   "source": [
    "# ID 범위를 지정\n",
    "min_id = 15001\n",
    "max_id = 15500\n",
    "num_range = 55\n",
    "\n",
    "entries = []\n",
    "with open(output_metadata, 'r', encoding='utf-8') as file:\n",
    "    for line in file:\n",
    "        # 사용자 데이터 패턴에 맞는지 확인\n",
    "        match = re.match(r'User ID: U(\\d+)\\s+Input Tokens: (\\d+)\\s+Output Tokens: (\\d+)\\s+History 수: (\\d+)\\s+Question 수: (\\d+)', line)\n",
    "        if match:\n",
    "            user_id = int(match.group(1))\n",
    "            if min_id <= user_id <= max_id:\n",
    "                input_tokens = int(match.group(2))\n",
    "                output_tokens = int(match.group(3))\n",
    "                history_count = int(match.group(4))\n",
    "                question_count = int(match.group(5))\n",
    "                entries.append({\n",
    "                    'User ID': user_id,\n",
    "                    'Input Tokens': input_tokens,\n",
    "                    'Output Tokens': output_tokens,\n",
    "                    'History 수': history_count,\n",
    "                    'Question 수': question_count\n",
    "                })\n",
    "        elif line.startswith('Total Input Tokens:'):\n",
    "            # 총합 부분에 도달하면 루프 종료\n",
    "            break\n",
    "\n",
    "# Input Tokens를 기준으로 오름차순 정렬\n",
    "sorted_entries = sorted(entries, key=lambda x: x['Input Tokens'])\n",
    "\n",
    "# 최대 50개의 결과를 저장\n",
    "top_entries = sorted_entries[:num_range]\n",
    "\n",
    "# 상위 50개의 결과 출력\n",
    "temp = []\n",
    "for idx, entry in enumerate(top_entries, 1):\n",
    "    print(f\"{idx}. ID: {entry['User ID']}  Input Tokens: {entry['Input Tokens']}  Output Tokens: {entry['Output Tokens']}   History 수: {entry['History 수']}   Question 수: {entry['Question 수']}\")\n",
    "    temp.append(entry['User ID'])\n",
    "\n",
    "# 총합 계산\n",
    "total_input_tokens = sum(entry['Input Tokens'] for entry in top_entries)\n",
    "total_output_tokens = sum(entry['Output Tokens'] for entry in top_entries)\n",
    "\n",
    "# 총합 출력\n",
    "print(f\"\\nTotal Input Tokens: {total_input_tokens}\")\n",
    "print(f\"Total Output Tokens: {total_output_tokens}\\n\")\n",
    "print(f\"list = {temp}\")\n"
   ]
  },
  {
   "cell_type": "code",
   "execution_count": null,
   "metadata": {},
   "outputs": [],
   "source": []
  }
 ],
 "metadata": {
  "kernelspec": {
   "display_name": "coongya11",
   "language": "python",
   "name": "python3"
  },
  "language_info": {
   "codemirror_mode": {
    "name": "ipython",
    "version": 3
   },
   "file_extension": ".py",
   "mimetype": "text/x-python",
   "name": "python",
   "nbconvert_exporter": "python",
   "pygments_lexer": "ipython3",
   "version": "3.11.8"
  }
 },
 "nbformat": 4,
 "nbformat_minor": 2
}
