{
 "cells": [
  {
   "cell_type": "code",
   "execution_count": 1,
   "metadata": {},
   "outputs": [],
   "source": [
    "def correction(file1, file2, result_name):\n",
    "    file1=f'../../results/gpt_result/{file1}'\n",
    "    file2=f'../../results/gpt_result/{file2}'\n",
    "    result_name=f'../../results/gpt_result/{result_name}'\n",
    "    # Step 1: 원본 데이터 읽기\n",
    "    original_data = {}\n",
    "    with open(file1, 'r', encoding='utf-8') as f:\n",
    "        lines = f.readlines()\n",
    "        current_user = None\n",
    "        current_data = []\n",
    "        for line in lines:\n",
    "            line = line.strip()\n",
    "            if line.startswith('[') and line.endswith(']'):\n",
    "                if current_user:\n",
    "                    original_data[current_user] = '\\n'.join(current_data)\n",
    "                current_user = line.strip('[]')\n",
    "                current_data = [line]\n",
    "            else:\n",
    "                current_data.append(line)\n",
    "        if current_user:\n",
    "            original_data[current_user] = '\\n'.join(current_data)\n",
    "\n",
    "    # Step 2: 수정된 데이터 읽기\n",
    "    refined_data = {}\n",
    "    with open(file2, 'r', encoding='utf-8') as f:\n",
    "        lines = f.readlines()\n",
    "        current_user = None\n",
    "        current_data = []\n",
    "        for line in lines:\n",
    "            line = line.strip()\n",
    "            if line.startswith('[') and line.endswith(']'):\n",
    "                if current_user:\n",
    "                    refined_data[current_user] = '\\n'.join(current_data)\n",
    "                current_user = line.strip('[]')\n",
    "                current_data = [line]\n",
    "            else:\n",
    "                current_data.append(line)\n",
    "        if current_user:\n",
    "            refined_data[current_user] = '\\n'.join(current_data)\n",
    "\n",
    "    # Step 3: 원본 데이터 업데이트\n",
    "    for user_id in refined_data:\n",
    "        original_data[user_id] = refined_data[user_id]\n",
    "\n",
    "    # Step 4: 업데이트된 데이터 저장\n",
    "    with open(result_name, 'w', encoding='utf-8') as f:\n",
    "        for user_id in sorted(original_data.keys(), key=lambda x: int(x[1:])):\n",
    "            f.write(original_data[user_id] + '\\n')\n",
    "    \n",
    "    print(f'{result_name}이 생성되었습니다.')\n",
    "\n"
   ]
  },
  {
   "cell_type": "markdown",
   "metadata": {},
   "source": [
    "## 실행\n",
    "[correction 함수]\n",
    "- file1 = 원본 파일\n",
    "- file2 = 수정된 user가 있는 파일\n",
    "- result_name = 결과를 저장할 파일 이름"
   ]
  },
  {
   "cell_type": "code",
   "execution_count": 2,
   "metadata": {},
   "outputs": [
    {
     "name": "stdout",
     "output_type": "stream",
     "text": [
      "../../results/gpt_result/[250313] negative_ns4_(one_shot)2.txt이 생성되었습니다.\n"
     ]
    }
   ],
   "source": [
    "# correction(file1='[250220] negative_acc2.txt', file2='[250220] negative_acc3.txt', result_name='[250220] negative_acc2.txt')\n",
    "correction(file1='[250313] negative_ns4_(one_shot)2.txt', file2='[250313] negative_ns4_(one_shot).txt', result_name='[250313] negative_ns4_(one_shot)2.txt')"
   ]
  },
  {
   "cell_type": "code",
   "execution_count": null,
   "metadata": {},
   "outputs": [],
   "source": []
  }
 ],
 "metadata": {
  "kernelspec": {
   "display_name": "coongya11",
   "language": "python",
   "name": "python3"
  },
  "language_info": {
   "codemirror_mode": {
    "name": "ipython",
    "version": 3
   },
   "file_extension": ".py",
   "mimetype": "text/x-python",
   "name": "python",
   "nbconvert_exporter": "python",
   "pygments_lexer": "ipython3",
   "version": "3.11.8"
  }
 },
 "nbformat": 4,
 "nbformat_minor": 2
}
