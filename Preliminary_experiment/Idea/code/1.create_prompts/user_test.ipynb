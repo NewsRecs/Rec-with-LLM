{
 "cells": [
  {
   "cell_type": "code",
   "execution_count": 1,
   "metadata": {},
   "outputs": [
    {
     "data": {
      "text/markdown": [
       "### 1. user<hr/>"
      ],
      "text/plain": [
       "<IPython.core.display.Markdown object>"
      ]
     },
     "metadata": {},
     "output_type": "display_data"
    },
    {
     "data": {
      "application/vnd.microsoft.datawrangler.viewer.v0+json": {
       "columns": [
        {
         "name": "index",
         "rawType": "int64",
         "type": "integer"
        },
        {
         "name": "User",
         "rawType": "int64",
         "type": "integer"
        },
        {
         "name": "History",
         "rawType": "object",
         "type": "string"
        },
        {
         "name": "Question",
         "rawType": "object",
         "type": "string"
        }
       ],
       "conversionMethod": "pd.DataFrame",
       "ref": "305c5e89-bfc7-43d4-b8ab-6d08a08527c2",
       "rows": [
        [
         "0",
         "1",
         "N58584 N12900 N6233 N51706 N18777 N593 N16793 N846 N18285 N46846 N53436",
         "N31978 N24207 N58271 N14184 N36789"
        ],
        [
         "1",
         "1",
         "N58584 N12900 N6233 N51706 N18777 N593 N16793 N846 N18285 N46846 N53436",
         "N57809 N50675 N61404 N32544 N47602"
        ],
        [
         "2",
         "1",
         "N58584 N12900 N6233 N51706 N18777 N593 N16793 N846 N18285 N46846 N53436",
         "N28213 N29801 N60992 N19592 N62128"
        ],
        [
         "3",
         "2",
         "N56586 N3046 N4209 N22293 N40545 N44495 N38659 N3863 N7333 N46868 N61018 N11101 N5310 N51299 N46392 N56170 N54101 N10629 N58722 N44310 N28158 N16292 N16480 N54225 N63779 N37802 N42620 N57754 N2018 N45314 N33740 N23864 N8143 N6342 N19495 N19660 N50941 N11360 N40254 N55714 N22627 N44867 N23431 N36948 N16043",
         "N22061 N4247 N61648 N27560 N22407"
        ],
        [
         "4",
         "2",
         "N56586 N3046 N4209 N22293 N40545 N44495 N38659 N3863 N7333 N46868 N61018 N11101 N5310 N51299 N46392 N56170 N54101 N10629 N58722 N44310 N28158 N16292 N16480 N54225 N63779 N37802 N42620 N57754 N2018 N45314 N33740 N23864 N8143 N6342 N19495 N19660 N50941 N11360 N40254 N55714 N22627 N44867 N23431 N36948 N16043",
         "N3128 N58295 N17965 N34099 N55186"
        ],
        [
         "5",
         "2",
         "N56586 N3046 N4209 N22293 N40545 N44495 N38659 N3863 N7333 N46868 N61018 N11101 N5310 N51299 N46392 N56170 N54101 N10629 N58722 N44310 N28158 N16292 N16480 N54225 N63779 N37802 N42620 N57754 N2018 N45314 N33740 N23864 N8143 N6342 N19495 N19660 N50941 N11360 N40254 N55714 N22627 N44867 N23431 N36948 N16043",
         "N42346 N58051 N3232 N53111 N1034"
        ],
        [
         "6",
         "2",
         "N56586 N3046 N4209 N22293 N40545 N44495 N38659 N3863 N7333 N46868 N61018 N11101 N5310 N51299 N46392 N56170 N54101 N10629 N58722 N44310 N28158 N16292 N16480 N54225 N63779 N37802 N42620 N57754 N2018 N45314 N33740 N23864 N8143 N6342 N19495 N19660 N50941 N11360 N40254 N55714 N22627 N44867 N23431 N36948 N16043",
         "N61022 N3580 N9473 N54595 N17340"
        ],
        [
         "7",
         "2",
         "N56586 N3046 N4209 N22293 N40545 N44495 N38659 N3863 N7333 N46868 N61018 N11101 N5310 N51299 N46392 N56170 N54101 N10629 N58722 N44310 N28158 N16292 N16480 N54225 N63779 N37802 N42620 N57754 N2018 N45314 N33740 N23864 N8143 N6342 N19495 N19660 N50941 N11360 N40254 N55714 N22627 N44867 N23431 N36948 N16043",
         "N41578 N41222 N45616 N23414 N53585"
        ],
        [
         "8",
         "2",
         "N56586 N3046 N4209 N22293 N40545 N44495 N38659 N3863 N7333 N46868 N61018 N11101 N5310 N51299 N46392 N56170 N54101 N10629 N58722 N44310 N28158 N16292 N16480 N54225 N63779 N37802 N42620 N57754 N2018 N45314 N33740 N23864 N8143 N6342 N19495 N19660 N50941 N11360 N40254 N55714 N22627 N44867 N23431 N36948 N16043",
         "N33619 N35854 N25624 N12028 N50675"
        ],
        [
         "9",
         "2",
         "N56586 N3046 N4209 N22293 N40545 N44495 N38659 N3863 N7333 N46868 N61018 N11101 N5310 N51299 N46392 N56170 N54101 N10629 N58722 N44310 N28158 N16292 N16480 N54225 N63779 N37802 N42620 N57754 N2018 N45314 N33740 N23864 N8143 N6342 N19495 N19660 N50941 N11360 N40254 N55714 N22627 N44867 N23431 N36948 N16043",
         "N47578 N20527 N20041 N64482 N28495"
        ],
        [
         "10",
         "2",
         "N56586 N3046 N4209 N22293 N40545 N44495 N38659 N3863 N7333 N46868 N61018 N11101 N5310 N51299 N46392 N56170 N54101 N10629 N58722 N44310 N28158 N16292 N16480 N54225 N63779 N37802 N42620 N57754 N2018 N45314 N33740 N23864 N8143 N6342 N19495 N19660 N50941 N11360 N40254 N55714 N22627 N44867 N23431 N36948 N16043",
         "N22457 N21119 N53054 N33144 N57402"
        ],
        [
         "11",
         "2",
         "N56586 N3046 N4209 N22293 N40545 N44495 N38659 N3863 N7333 N46868 N61018 N11101 N5310 N51299 N46392 N56170 N54101 N10629 N58722 N44310 N28158 N16292 N16480 N54225 N63779 N37802 N42620 N57754 N2018 N45314 N33740 N23864 N8143 N6342 N19495 N19660 N50941 N11360 N40254 N55714 N22627 N44867 N23431 N36948 N16043",
         "N22188 N56214 N14029 N46992 N30035"
        ],
        [
         "12",
         "2",
         "N56586 N3046 N4209 N22293 N40545 N44495 N38659 N3863 N7333 N46868 N61018 N11101 N5310 N51299 N46392 N56170 N54101 N10629 N58722 N44310 N28158 N16292 N16480 N54225 N63779 N37802 N42620 N57754 N2018 N45314 N33740 N23864 N8143 N6342 N19495 N19660 N50941 N11360 N40254 N55714 N22627 N44867 N23431 N36948 N16043",
         "N42457 N47205 N22417 N36351 N31448"
        ],
        [
         "13",
         "2",
         "N56586 N3046 N4209 N22293 N40545 N44495 N38659 N3863 N7333 N46868 N61018 N11101 N5310 N51299 N46392 N56170 N54101 N10629 N58722 N44310 N28158 N16292 N16480 N54225 N63779 N37802 N42620 N57754 N2018 N45314 N33740 N23864 N8143 N6342 N19495 N19660 N50941 N11360 N40254 N55714 N22627 N44867 N23431 N36948 N16043",
         "N21712 N33203 N4247 N64632 N42634"
        ],
        [
         "14",
         "2",
         "N56586 N3046 N4209 N22293 N40545 N44495 N38659 N3863 N7333 N46868 N61018 N11101 N5310 N51299 N46392 N56170 N54101 N10629 N58722 N44310 N28158 N16292 N16480 N54225 N63779 N37802 N42620 N57754 N2018 N45314 N33740 N23864 N8143 N6342 N19495 N19660 N50941 N11360 N40254 N55714 N22627 N44867 N23431 N36948 N16043",
         "N34925 N22339 N4247 N16463 N8400"
        ],
        [
         "15",
         "2",
         "N56586 N3046 N4209 N22293 N40545 N44495 N38659 N3863 N7333 N46868 N61018 N11101 N5310 N51299 N46392 N56170 N54101 N10629 N58722 N44310 N28158 N16292 N16480 N54225 N63779 N37802 N42620 N57754 N2018 N45314 N33740 N23864 N8143 N6342 N19495 N19660 N50941 N11360 N40254 N55714 N22627 N44867 N23431 N36948 N16043",
         "N6399 N41569 N4999 N21342 N37377"
        ],
        [
         "16",
         "2",
         "N56586 N3046 N4209 N22293 N40545 N44495 N38659 N3863 N7333 N46868 N61018 N11101 N5310 N51299 N46392 N56170 N54101 N10629 N58722 N44310 N28158 N16292 N16480 N54225 N63779 N37802 N42620 N57754 N2018 N45314 N33740 N23864 N8143 N6342 N19495 N19660 N50941 N11360 N40254 N55714 N22627 N44867 N23431 N36948 N16043",
         "N44030 N6825 N5827 N31002 N51398"
        ],
        [
         "17",
         "2",
         "N56586 N3046 N4209 N22293 N40545 N44495 N38659 N3863 N7333 N46868 N61018 N11101 N5310 N51299 N46392 N56170 N54101 N10629 N58722 N44310 N28158 N16292 N16480 N54225 N63779 N37802 N42620 N57754 N2018 N45314 N33740 N23864 N8143 N6342 N19495 N19660 N50941 N11360 N40254 N55714 N22627 N44867 N23431 N36948 N16043",
         "N33981 N39978 N48657 N59390 N15855"
        ],
        [
         "18",
         "2",
         "N56586 N3046 N4209 N22293 N40545 N44495 N38659 N3863 N7333 N46868 N61018 N11101 N5310 N51299 N46392 N56170 N54101 N10629 N58722 N44310 N28158 N16292 N16480 N54225 N63779 N37802 N42620 N57754 N2018 N45314 N33740 N23864 N8143 N6342 N19495 N19660 N50941 N11360 N40254 N55714 N22627 N44867 N23431 N36948 N16043",
         "N44324 N4247 N3128 N23469 N43848"
        ],
        [
         "19",
         "2",
         "N56586 N3046 N4209 N22293 N40545 N44495 N38659 N3863 N7333 N46868 N61018 N11101 N5310 N51299 N46392 N56170 N54101 N10629 N58722 N44310 N28158 N16292 N16480 N54225 N63779 N37802 N42620 N57754 N2018 N45314 N33740 N23864 N8143 N6342 N19495 N19660 N50941 N11360 N40254 N55714 N22627 N44867 N23431 N36948 N16043",
         "N22061 N28862 N18613 N23784 N53907"
        ],
        [
         "20",
         "2",
         "N56586 N3046 N4209 N22293 N40545 N44495 N38659 N3863 N7333 N46868 N61018 N11101 N5310 N51299 N46392 N56170 N54101 N10629 N58722 N44310 N28158 N16292 N16480 N54225 N63779 N37802 N42620 N57754 N2018 N45314 N33740 N23864 N8143 N6342 N19495 N19660 N50941 N11360 N40254 N55714 N22627 N44867 N23431 N36948 N16043",
         "N58183 N25428 N28888 N51718 N25471"
        ],
        [
         "21",
         "2",
         "N56586 N3046 N4209 N22293 N40545 N44495 N38659 N3863 N7333 N46868 N61018 N11101 N5310 N51299 N46392 N56170 N54101 N10629 N58722 N44310 N28158 N16292 N16480 N54225 N63779 N37802 N42620 N57754 N2018 N45314 N33740 N23864 N8143 N6342 N19495 N19660 N50941 N11360 N40254 N55714 N22627 N44867 N23431 N36948 N16043",
         "N34876 N13907 N4642 N21420 N4913"
        ],
        [
         "22",
         "2",
         "N56586 N3046 N4209 N22293 N40545 N44495 N38659 N3863 N7333 N46868 N61018 N11101 N5310 N51299 N46392 N56170 N54101 N10629 N58722 N44310 N28158 N16292 N16480 N54225 N63779 N37802 N42620 N57754 N2018 N45314 N33740 N23864 N8143 N6342 N19495 N19660 N50941 N11360 N40254 N55714 N22627 N44867 N23431 N36948 N16043",
         "N62360 N13974 N22825 N52180 N45389"
        ],
        [
         "23",
         "2",
         "N56586 N3046 N4209 N22293 N40545 N44495 N38659 N3863 N7333 N46868 N61018 N11101 N5310 N51299 N46392 N56170 N54101 N10629 N58722 N44310 N28158 N16292 N16480 N54225 N63779 N37802 N42620 N57754 N2018 N45314 N33740 N23864 N8143 N6342 N19495 N19660 N50941 N11360 N40254 N55714 N22627 N44867 N23431 N36948 N16043",
         "N3123 N46992 N53084 N3344 N64851"
        ],
        [
         "24",
         "2",
         "N56586 N3046 N4209 N22293 N40545 N44495 N38659 N3863 N7333 N46868 N61018 N11101 N5310 N51299 N46392 N56170 N54101 N10629 N58722 N44310 N28158 N16292 N16480 N54225 N63779 N37802 N42620 N57754 N2018 N45314 N33740 N23864 N8143 N6342 N19495 N19660 N50941 N11360 N40254 N55714 N22627 N44867 N23431 N36948 N16043",
         "N14436 N61648 N25881 N64734 N24865"
        ],
        [
         "25",
         "3",
         "N32643 N13374 N55743 N14617 N30448 N49908 N33096 N26682 N21259 N8143 N22997 N48356 N47348 N3045 N49475 N37394 N27714 N57464",
         "N57032 N52424 N1228 N40109 N19661"
        ],
        [
         "26",
         "4",
         "N49997 N60223 N42526 N11101 N13137 N9890 N1730 N20034",
         "N20281 N58140 N44616 N8061 N12523"
        ],
        [
         "27",
         "4",
         "N49997 N60223 N42526 N11101 N13137 N9890 N1730 N20034",
         "N13423 N279 N3894 N11484 N349"
        ],
        [
         "28",
         "4",
         "N49997 N60223 N42526 N11101 N13137 N9890 N1730 N20034",
         "N27473 N33983 N48890 N59981 N15855"
        ],
        [
         "29",
         "4",
         "N49997 N60223 N42526 N11101 N13137 N9890 N1730 N20034",
         "N6658 N43869 N16209 N59852 N60374"
        ],
        [
         "30",
         "5",
         "N29177 N51706 N32483 N20710 N16290 N24691 N29041 N49111 N39235 N41899 N30974 N1966 N48098 N45794 N46392 N59704 N49802 N31843 N10414 N54225 N306 N43142 N33096 N2231 N45736 N61940 N32482 N28803",
         "N19542 N39765 N63538 N53585 N46526"
        ],
        [
         "31",
         "5",
         "N29177 N51706 N32483 N20710 N16290 N24691 N29041 N49111 N39235 N41899 N30974 N1966 N48098 N45794 N46392 N59704 N49802 N31843 N10414 N54225 N306 N43142 N33096 N2231 N45736 N61940 N32482 N28803",
         "N21519 N30518 N55204 N48572 N13930"
        ],
        [
         "32",
         "5",
         "N29177 N51706 N32483 N20710 N16290 N24691 N29041 N49111 N39235 N41899 N30974 N1966 N48098 N45794 N46392 N59704 N49802 N31843 N10414 N54225 N306 N43142 N33096 N2231 N45736 N61940 N32482 N28803",
         "N46029 N2350 N30998 N37781 N33964"
        ],
        [
         "33",
         "6",
         "N56253 N28296 N52006 N40716 N58744 N45994 N55922 N55743 N32720 N54655 N8517",
         "N32806 N25624 N14726 N26415 N926"
        ],
        [
         "34",
         "6",
         "N56253 N28296 N52006 N40716 N58744 N45994 N55922 N55743 N32720 N54655 N8517",
         "N8509 N47061 N21420 N36261 N56214"
        ],
        [
         "35",
         "6",
         "N56253 N28296 N52006 N40716 N58744 N45994 N55922 N55743 N32720 N54655 N8517",
         "N51048 N20746 N56214 N14029 N4642"
        ],
        [
         "36",
         "7",
         "N60698 N22185 N11650 N11382 N49469 N26394 N40231 N36934 N17102 N17854 N17799 N64074 N23163 N50085 N5297 N19347 N5902 N23726 N40944 N306 N18336 N51705 N10470 N4912 N59457 N42986 N3566 N48742 N33024 N20114 N51270 N32482",
         "N19592 N60619 N33 N39187 N37753"
        ],
        [
         "37",
         "7",
         "N60698 N22185 N11650 N11382 N49469 N26394 N40231 N36934 N17102 N17854 N17799 N64074 N23163 N50085 N5297 N19347 N5902 N23726 N40944 N306 N18336 N51705 N10470 N4912 N59457 N42986 N3566 N48742 N33024 N20114 N51270 N32482",
         "N50138 N57716 N63796 N38695 N62049"
        ],
        [
         "38",
         "7",
         "N60698 N22185 N11650 N11382 N49469 N26394 N40231 N36934 N17102 N17854 N17799 N64074 N23163 N50085 N5297 N19347 N5902 N23726 N40944 N306 N18336 N51705 N10470 N4912 N59457 N42986 N3566 N48742 N33024 N20114 N51270 N32482",
         "N59685 N23008 N22457 N55281 N41172"
        ],
        [
         "39",
         "7",
         "N60698 N22185 N11650 N11382 N49469 N26394 N40231 N36934 N17102 N17854 N17799 N64074 N23163 N50085 N5297 N19347 N5902 N23726 N40944 N306 N18336 N51705 N10470 N4912 N59457 N42986 N3566 N48742 N33024 N20114 N51270 N32482",
         "N51048 N63106 N36221 N57426 N59761"
        ],
        [
         "40",
         "7",
         "N60698 N22185 N11650 N11382 N49469 N26394 N40231 N36934 N17102 N17854 N17799 N64074 N23163 N50085 N5297 N19347 N5902 N23726 N40944 N306 N18336 N51705 N10470 N4912 N59457 N42986 N3566 N48742 N33024 N20114 N51270 N32482",
         "N555 N18708 N63538 N7128 N16342"
        ],
        [
         "41",
         "7",
         "N60698 N22185 N11650 N11382 N49469 N26394 N40231 N36934 N17102 N17854 N17799 N64074 N23163 N50085 N5297 N19347 N5902 N23726 N40944 N306 N18336 N51705 N10470 N4912 N59457 N42986 N3566 N48742 N33024 N20114 N51270 N32482",
         "N23174 N28542 N24985 N41172 N60186"
        ],
        [
         "42",
         "7",
         "N60698 N22185 N11650 N11382 N49469 N26394 N40231 N36934 N17102 N17854 N17799 N64074 N23163 N50085 N5297 N19347 N5902 N23726 N40944 N306 N18336 N51705 N10470 N4912 N59457 N42986 N3566 N48742 N33024 N20114 N51270 N32482",
         "N61117 N20954 N45660 N61623 N59981"
        ],
        [
         "43",
         "7",
         "N60698 N22185 N11650 N11382 N49469 N26394 N40231 N36934 N17102 N17854 N17799 N64074 N23163 N50085 N5297 N19347 N5902 N23726 N40944 N306 N18336 N51705 N10470 N4912 N59457 N42986 N3566 N48742 N33024 N20114 N51270 N32482",
         "N43502 N10464 N29128 N24176 N3697"
        ],
        [
         "44",
         "7",
         "N60698 N22185 N11650 N11382 N49469 N26394 N40231 N36934 N17102 N17854 N17799 N64074 N23163 N50085 N5297 N19347 N5902 N23726 N40944 N306 N18336 N51705 N10470 N4912 N59457 N42986 N3566 N48742 N33024 N20114 N51270 N32482",
         "N62563 N34048 N15719 N22417 N23162"
        ],
        [
         "45",
         "7",
         "N60698 N22185 N11650 N11382 N49469 N26394 N40231 N36934 N17102 N17854 N17799 N64074 N23163 N50085 N5297 N19347 N5902 N23726 N40944 N306 N18336 N51705 N10470 N4912 N59457 N42986 N3566 N48742 N33024 N20114 N51270 N32482",
         "N47748 N4913 N8509 N36638 N39774"
        ],
        [
         "46",
         "7",
         "N60698 N22185 N11650 N11382 N49469 N26394 N40231 N36934 N17102 N17854 N17799 N64074 N23163 N50085 N5297 N19347 N5902 N23726 N40944 N306 N18336 N51705 N10470 N4912 N59457 N42986 N3566 N48742 N33024 N20114 N51270 N32482",
         "N63106 N36660 N27198 N43102 N39187"
        ],
        [
         "47",
         "7",
         "N60698 N22185 N11650 N11382 N49469 N26394 N40231 N36934 N17102 N17854 N17799 N64074 N23163 N50085 N5297 N19347 N5902 N23726 N40944 N306 N18336 N51705 N10470 N4912 N59457 N42986 N3566 N48742 N33024 N20114 N51270 N32482",
         "N63796 N62894 N20746 N13907 N26081"
        ],
        [
         "48",
         "7",
         "N60698 N22185 N11650 N11382 N49469 N26394 N40231 N36934 N17102 N17854 N17799 N64074 N23163 N50085 N5297 N19347 N5902 N23726 N40944 N306 N18336 N51705 N10470 N4912 N59457 N42986 N3566 N48742 N33024 N20114 N51270 N32482",
         "N54227 N4510 N3957 N38215 N56214"
        ],
        [
         "49",
         "7",
         "N60698 N22185 N11650 N11382 N49469 N26394 N40231 N36934 N17102 N17854 N17799 N64074 N23163 N50085 N5297 N19347 N5902 N23726 N40944 N306 N18336 N51705 N10470 N4912 N59457 N42986 N3566 N48742 N33024 N20114 N51270 N32482",
         "N48705 N64252 N33831 N4642 N50288"
        ]
       ],
       "shape": {
        "columns": 3,
        "rows": 187618
       }
      },
      "text/html": [
       "<div>\n",
       "<style scoped>\n",
       "    .dataframe tbody tr th:only-of-type {\n",
       "        vertical-align: middle;\n",
       "    }\n",
       "\n",
       "    .dataframe tbody tr th {\n",
       "        vertical-align: top;\n",
       "    }\n",
       "\n",
       "    .dataframe thead th {\n",
       "        text-align: right;\n",
       "    }\n",
       "</style>\n",
       "<table border=\"1\" class=\"dataframe\">\n",
       "  <thead>\n",
       "    <tr style=\"text-align: right;\">\n",
       "      <th></th>\n",
       "      <th>User</th>\n",
       "      <th>History</th>\n",
       "      <th>Question</th>\n",
       "    </tr>\n",
       "  </thead>\n",
       "  <tbody>\n",
       "    <tr>\n",
       "      <th>0</th>\n",
       "      <td>1</td>\n",
       "      <td>N58584 N12900 N6233 N51706 N18777 N593 N16793 ...</td>\n",
       "      <td>N31978 N24207 N58271 N14184 N36789</td>\n",
       "    </tr>\n",
       "    <tr>\n",
       "      <th>1</th>\n",
       "      <td>1</td>\n",
       "      <td>N58584 N12900 N6233 N51706 N18777 N593 N16793 ...</td>\n",
       "      <td>N57809 N50675 N61404 N32544 N47602</td>\n",
       "    </tr>\n",
       "    <tr>\n",
       "      <th>2</th>\n",
       "      <td>1</td>\n",
       "      <td>N58584 N12900 N6233 N51706 N18777 N593 N16793 ...</td>\n",
       "      <td>N28213 N29801 N60992 N19592 N62128</td>\n",
       "    </tr>\n",
       "    <tr>\n",
       "      <th>3</th>\n",
       "      <td>2</td>\n",
       "      <td>N56586 N3046 N4209 N22293 N40545 N44495 N38659...</td>\n",
       "      <td>N22061 N4247 N61648 N27560 N22407</td>\n",
       "    </tr>\n",
       "    <tr>\n",
       "      <th>4</th>\n",
       "      <td>2</td>\n",
       "      <td>N56586 N3046 N4209 N22293 N40545 N44495 N38659...</td>\n",
       "      <td>N3128 N58295 N17965 N34099 N55186</td>\n",
       "    </tr>\n",
       "    <tr>\n",
       "      <th>...</th>\n",
       "      <td>...</td>\n",
       "      <td>...</td>\n",
       "      <td>...</td>\n",
       "    </tr>\n",
       "    <tr>\n",
       "      <th>187613</th>\n",
       "      <td>37639</td>\n",
       "      <td>N22185 N56586 N3500 N61826 N10629 N9824 N2745 ...</td>\n",
       "      <td>N8353 N59088 N33885 N50490 N17882</td>\n",
       "    </tr>\n",
       "    <tr>\n",
       "      <th>187614</th>\n",
       "      <td>37639</td>\n",
       "      <td>N22185 N56586 N3500 N61826 N10629 N9824 N2745 ...</td>\n",
       "      <td>N63058 N39151 N44183 N26224 N23615</td>\n",
       "    </tr>\n",
       "    <tr>\n",
       "      <th>187615</th>\n",
       "      <td>37639</td>\n",
       "      <td>N22185 N56586 N3500 N61826 N10629 N9824 N2745 ...</td>\n",
       "      <td>N61828 N41717 N8353 N48783 N46098</td>\n",
       "    </tr>\n",
       "    <tr>\n",
       "      <th>187616</th>\n",
       "      <td>37639</td>\n",
       "      <td>N22185 N56586 N3500 N61826 N10629 N9824 N2745 ...</td>\n",
       "      <td>N17228 N4156 N51220 N12330 N54869</td>\n",
       "    </tr>\n",
       "    <tr>\n",
       "      <th>187617</th>\n",
       "      <td>37639</td>\n",
       "      <td>N22185 N56586 N3500 N61826 N10629 N9824 N2745 ...</td>\n",
       "      <td>N28307 N42808 N6477 N44183 N60960</td>\n",
       "    </tr>\n",
       "  </tbody>\n",
       "</table>\n",
       "<p>187618 rows × 3 columns</p>\n",
       "</div>"
      ],
      "text/plain": [
       "         User                                            History  \\\n",
       "0           1  N58584 N12900 N6233 N51706 N18777 N593 N16793 ...   \n",
       "1           1  N58584 N12900 N6233 N51706 N18777 N593 N16793 ...   \n",
       "2           1  N58584 N12900 N6233 N51706 N18777 N593 N16793 ...   \n",
       "3           2  N56586 N3046 N4209 N22293 N40545 N44495 N38659...   \n",
       "4           2  N56586 N3046 N4209 N22293 N40545 N44495 N38659...   \n",
       "...       ...                                                ...   \n",
       "187613  37639  N22185 N56586 N3500 N61826 N10629 N9824 N2745 ...   \n",
       "187614  37639  N22185 N56586 N3500 N61826 N10629 N9824 N2745 ...   \n",
       "187615  37639  N22185 N56586 N3500 N61826 N10629 N9824 N2745 ...   \n",
       "187616  37639  N22185 N56586 N3500 N61826 N10629 N9824 N2745 ...   \n",
       "187617  37639  N22185 N56586 N3500 N61826 N10629 N9824 N2745 ...   \n",
       "\n",
       "                                  Question  \n",
       "0       N31978 N24207 N58271 N14184 N36789  \n",
       "1       N57809 N50675 N61404 N32544 N47602  \n",
       "2       N28213 N29801 N60992 N19592 N62128  \n",
       "3        N22061 N4247 N61648 N27560 N22407  \n",
       "4        N3128 N58295 N17965 N34099 N55186  \n",
       "...                                    ...  \n",
       "187613   N8353 N59088 N33885 N50490 N17882  \n",
       "187614  N63058 N39151 N44183 N26224 N23615  \n",
       "187615   N61828 N41717 N8353 N48783 N46098  \n",
       "187616   N17228 N4156 N51220 N12330 N54869  \n",
       "187617   N28307 N42808 N6477 N44183 N60960  \n",
       "\n",
       "[187618 rows x 3 columns]"
      ]
     },
     "metadata": {},
     "output_type": "display_data"
    },
    {
     "data": {
      "text/markdown": [
       "### 2. NNR_news<hr/>"
      ],
      "text/plain": [
       "<IPython.core.display.Markdown object>"
      ]
     },
     "metadata": {},
     "output_type": "display_data"
    },
    {
     "data": {
      "application/vnd.microsoft.datawrangler.viewer.v0+json": {
       "columns": [
        {
         "name": "index",
         "rawType": "int64",
         "type": "integer"
        },
        {
         "name": "News ID",
         "rawType": "object",
         "type": "string"
        },
        {
         "name": "Category",
         "rawType": "object",
         "type": "string"
        },
        {
         "name": "SubCategory",
         "rawType": "object",
         "type": "string"
        },
        {
         "name": "Title",
         "rawType": "object",
         "type": "string"
        },
        {
         "name": "Abstract",
         "rawType": "object",
         "type": "unknown"
        }
       ],
       "conversionMethod": "pd.DataFrame",
       "ref": "258c3dd2-e43a-49a2-8ca7-0fb83f3ef498",
       "rows": [
        [
         "0",
         "N55528",
         "lifestyle",
         "lifestyleroyals",
         "The Brands Queen Elizabeth, Prince Charles, and Prince Philip Swear By",
         "Shop the notebooks, jackets, and more that the royals can't live without."
        ],
        [
         "1",
         "N19639",
         "health",
         "weightloss",
         "50 Worst Habits For Belly Fat",
         "These seemingly harmless habits are holding you back and keeping you from shedding that unwanted belly fat for good."
        ],
        [
         "2",
         "N61837",
         "news",
         "newsworld",
         "The Cost of Trump's Aid Freeze in the Trenches of Ukraine's War",
         "Lt. Ivan Molchanets peeked over a parapet of sand bags at the front line of the war in Ukraine. Next to him was an empty helmet propped up to trick snipers, already perforated with multiple holes."
        ],
        [
         "3",
         "N53526",
         "health",
         "voices",
         "I Was An NBA Wife. Here's How It Affected My Mental Health.",
         "I felt like I was a fraud, and being an NBA wife didn't help that. In fact, it nearly destroyed me."
        ],
        [
         "4",
         "N38324",
         "health",
         "medical",
         "How to Get Rid of Skin Tags, According to a Dermatologist",
         "They seem harmless, but there's a very good reason you shouldn't ignore them. The post How to Get Rid of Skin Tags, According to a Dermatologist appeared first on Reader's Digest."
        ],
        [
         "5",
         "N2073",
         "sports",
         "football_nfl",
         "Should NFL be able to fine players for criticizing officiating?",
         "Several fines came down against NFL players for criticizing officiating this week. It's a very bad look for the league."
        ],
        [
         "6",
         "N49186",
         "weather",
         "weathertopstories",
         "It's been Orlando's hottest October ever so far, but cooler temperatures on the way",
         "There won't be a chill down to your bones this Halloween in Orlando, unless you count the sweat dripping from your armpits."
        ],
        [
         "7",
         "N59295",
         "news",
         "newsworld",
         "Chile: Three die in supermarket fire amid protests",
         "Three people have died in a supermarket fire as angry protests in Chile entered their seventh day, the mayor of capital city Santiago said on Sunday."
        ],
        [
         "8",
         "N24510",
         "entertainment",
         "gaming",
         "Best PS5 games: top PlayStation 5 titles to look forward to",
         "Every confirmed or expected PS5 game we can't wait to play"
        ],
        [
         "9",
         "N39237",
         "news",
         "newsscienceandtechnology",
         "How to report weather-related closings, delays",
         "When there are active closings, view them here. WXII 12 News receives a number of phone calls and e-mails from viewers with questions. Sign up for our Newsletters To report a closure, please visit wxii.reportclosing.com The weather closing system is a viewer-operated system. Employees of WXII-TV and WXII12.com DO NOT enter the information in the system. That comes straight from the school/business/institution. Before you can enter information,..."
        ],
        [
         "10",
         "N9721",
         "health",
         "nutrition",
         "50 Foods You Should Never Eat, According to Health Experts",
         "This is so depressing."
        ],
        [
         "11",
         "N60905",
         "autos",
         "autosenthusiasts",
         "Trying to Make a Ram 3500 as Quick as a Viper Requires Some Disassembly",
         "The 2019 Ram 3500's new Cummins diesel has 1000 lb-ft of torque. We put it to work on the drag strip."
        ],
        [
         "12",
         "N39758",
         "health",
         "nutrition",
         "25 Biggest Grocery Store Mistakes Making You Gain Weight",
         "From picking up free goodies to navigating the wrong aisles, these grocery shopping mistakes could be one of the sneaky reasons you're gaining weight."
        ],
        [
         "13",
         "N28361",
         "health",
         "wellness",
         "Instagram Filters with Plastic Surgery-Inspired Effects Could Soon Disappear",
         "In an effort to combat some of the negative mental impacts caused by social media, the company announced it is removing all of its filters that give a plastic surgery-like effect."
        ],
        [
         "14",
         "N18680",
         "health",
         "health-news",
         "Michigan apple recall: Nearly 2,300 crates could be contaminated with listeria",
         "A Michigan produce company has recalled nearly 2,300 cases of fresh apples that could be contaminated with listeria."
        ],
        [
         "15",
         "N55610",
         "lifestyle",
         "lifestyleroyals",
         "Kate Middleton's Best Hairstyles Through the Years",
         "The Duchess of Cambridge knows her way around an updo."
        ],
        [
         "16",
         "N35621",
         "entertainment",
         "celebrity",
         "Stars who got fired from major projects",
         "Take a look back at the celebs who got the boot from major movies and TV shows."
        ],
        [
         "17",
         "N22850",
         "travel",
         "travelarticle",
         "Newark Liberty Airport's Terminal One a $2.7 billion 'transformative' project",
         "The project, which is the bi-state agency's single-largest investment in the state, is projected to be completed in 2022."
        ],
        [
         "18",
         "N58173",
         "autos",
         "autossuvs",
         "Is This The 2021 GMC Yukon Denali?",
         "A Motor1.com reader sent this to us, and it sure looks legit."
        ],
        [
         "19",
         "N29120",
         "sports",
         "football_nfl",
         "John Dorsey admits talks with Washington, but it \"takes two to tango\"",
         "Team officials in Washington \"emphatically\" denied a rumor of a Trent Williams trade to Cleveland, according to a report Tuesday. A day later, Browns General Manager John Dorsey admitted publicly he has talked to Washington president Bruce Allen. \"We've had a few conversations,\" Dorsey said, via Mary Kay Cabot of the Cleveland Plain Dealer. \"It [more]"
        ],
        [
         "20",
         "N9786",
         "news",
         "newspolitics",
         "Elijah Cummings to lie in state at US Capitol Thursday",
         "Cummings, a Democrat whose district included sections of Baltimore, died last week at age 68 from complications related to longstanding health issues."
        ],
        [
         "21",
         "N47705",
         "travel",
         "traveltripideas",
         "17 Abandoned Theme Parks to Explore for Thrills, Chills, and Nostalgia",
         "Disney, Six Flags, and even the Flintstones have had amusement parks that succumbed to disasters, bad press, and shifting entertainment markets. But for the adventurous, abandoned theme parks, whether in California, Florida, or Ohio, can be fascinating places to explore   if you dare."
        ],
        [
         "22",
         "N3574",
         "autos",
         "autosnews",
         "Ford Bronco Test Mule Spotted Flexing Its Muscles in Australia",
         "It still won't be offered in the Land Down Under, however."
        ],
        [
         "23",
         "N42474",
         "news",
         "newsbusiness",
         "Trump's Trustbusters Bring Microsoft Lessons to Big Tech Fight",
         "DOJ's Makan Delrahim and the FTC's Joe Simons have agreed to divide Google, Facebook, Amazon, and Apple between them."
        ],
        [
         "24",
         "N64498",
         "sports",
         "golf",
         "PGA Tour winners",
         "A gallery of recent winners on the PGA Tour."
        ],
        [
         "25",
         "N7517",
         "lifestyle",
         "lifestylepetsanimals",
         "10 Things You Never Knew About Owls",
         "With their huge eyes, sharp talons, and swiveling heads, owls are mysterious creatures."
        ],
        [
         "26",
         "N63665",
         "foodanddrink",
         "recipes",
         "25 Last-Minute Ideas That Will Absolutely Save Your Holiday Dinner",
         "These last-minute ideas will make you excited for the (sometimes-stressful) holiday. The post 25 Last-Minute Ideas That Will Absolutely Save Your Holidays appeared first on Taste of Home."
        ],
        [
         "27",
         "N59469",
         "lifestyle",
         "lifestyleroyals",
         "Every outfit Duchess Kate has worn in 2019",
         "See Kate Middleton's style choices this year from glam gowns and coat dresses to re-wears, tiaras and hats."
        ],
        [
         "28",
         "N57356",
         "news",
         "newsscienceandtechnology",
         "New iPad Pro 2019 release date, price, news and leaks",
         "Apple is likely gearing up to release a new series of iPad Pro tablets, so this is what we know and what we want to see."
        ],
        [
         "29",
         "N15926",
         "health",
         "weightloss",
         "These Simple Diet Changes Helped This Guy Lose 75 Pounds in 9 Months",
         "The part of me that knew I had to make changes took control."
        ],
        [
         "30",
         "N43620",
         "news",
         "newsworld",
         "Without help from US, UN climate fund struggles to meet goal",
         "Rich countries gathered Thursday in France to discuss replenishing an international fund that is meant to help poor nations tackle climate change, but which is falling short of its targets because the U.S. has stopped contributing."
        ],
        [
         "31",
         "N60603",
         "entertainment",
         "gaming",
         "Best PS4 games 2019: play great PlayStation 4 games",
         "These are the best PS4 games available today, from Sony's awesome exclusives to third-party must plays"
        ],
        [
         "32",
         "N40078",
         "tv",
         "tv-gallery",
         "The 23 Best TV Reboots of All Time",
         "These TV reboots are the best in their class. Find out which show revivals outshine the competition, or even steal the spotlight from their own originals."
        ],
        [
         "33",
         "N61409",
         "news",
         "newsscienceandtechnology",
         "Netflix hackers: Why they steal passwords",
         "Netflix accounts don't really offer the selling potential stolen Facebook accounts do, but they still tempt a subset of hackers."
        ],
        [
         "34",
         "N46013",
         "foodanddrink",
         "recipes",
         "20 Must-Try Gravy Recipes for Your Thanksgiving Feast",
         "Turkey just isn't the same without it."
        ],
        [
         "35",
         "N50643",
         "weather",
         "weathertopstories",
         "A little snow causes a big mess, more than 100 crashes on Minnesota roads",
         "A snowfall of a mere one-tenth of an inch caused way more than its share of damaged cars and rattled drivers early Saturday, with 118 crashes reported between 6 a.m. and 11:30 a.m., according to the Minnesota State Patrol. Another 22 vehicles spun out or slid off the slick roads, said State Patrol spokesman Lt. Gordon Shank. No weather-related fatalities were reported. Although 18 people were ..."
        ],
        [
         "36",
         "N60723",
         "news",
         "newsworld",
         "Extinction Rebellion wins court challenge against London police",
         "A blanket ban against the climate change activist's 10-day demonstrations across London in October was ruled unlawful."
        ],
        [
         "37",
         "N63175",
         "sports",
         "basketball_nba",
         "LA rivalry takes on new meaning for fans as Lakers, Clippers in hunt for NBA championship",
         "NBA Finals MVP Kawhi Leonard and other Clippers say they are used to taunts and booing from Lakers fans, who are \"like a religion\" in Tinseltown."
        ],
        [
         "38",
         "N22028",
         "lifestyle",
         "lifestylebuzz",
         "Mom with schizophrenia, 6-year-old daughter missing in Queens",
         null
        ],
        [
         "39",
         "N8795",
         "lifestyle",
         "shop-all",
         "5 Things You Probably Shouldn't Be Buying from Costco",
         "Bigger isn't always better, and some items sell for way cheaper at the supermarket than the warehouse."
        ],
        [
         "40",
         "N43647",
         "news",
         "newsphotos",
         "POWER RANKING: Here's who has the best chance of becoming the 2020 Democratic presidential nominee",
         "We've combined Insider polling and results of Morning Consult's daily survey to create a weekly power ranking of the potential 2020 candidates."
        ],
        [
         "41",
         "N41835",
         "news",
         "newsworld",
         "Today in History: November 2",
         null
        ],
        [
         "42",
         "N8071",
         "lifestyle",
         "lifestyleroyals",
         "25 Photos of the Royal Family at Balmoral Castle, Queen Elizabeth's Favorite Home",
         "The royal family has been visiting the Scottish estate for more than a century."
        ],
        [
         "43",
         "N26926",
         "lifestyle",
         "voices",
         "I'm Afraid to Tell My Male Bosses I'm Pregnant",
         "Women with children are considered less competent than those without. The longer I can pretend I'm one of the women without, the better."
        ],
        [
         "44",
         "N49265",
         "foodanddrink",
         "recipes",
         "These Cranberry Sauce Recipes Are Perfect for Thanksgiving Dinner",
         "You'll never want the store-bought version ever again."
        ],
        [
         "45",
         "N5124",
         "sports",
         "basketball_ncaa",
         "Phil Fulmer blasts NCAA after key Tennessee freshman denied eligibility",
         "Uros Plavsic, a redshirt freshman who transferred from Arizona State after a coaching change, will not be allowed to suit up for the Vols this season."
        ],
        [
         "46",
         "N42777",
         "lifestyle",
         "lifestyleroyals",
         "Prince George's Royal Life in Photos",
         "Photos of the future king of England   who is third in line for the throne, behind his father and Prince Charles."
        ],
        [
         "47",
         "N41387",
         "tv",
         "tv-gallery",
         "Can you answer these real Jeopardy questions about TV shows?",
         "Culling data straight from the \"Jeopardy!\" archives, Stacker will provide a \"clue\" about TV shows and then present the answer in the form of a question on the following slide. Can you answer these real \"Jeopardy!\" questions about TV shows?"
        ],
        [
         "48",
         "N41106",
         "sports",
         "golf",
         "Randall's Rant: Is Tiger already the GOAT without 18 majors?",
         "We may never understand what Tiger Woods has gone through off the golf course, but even so, does that make him the GOAT without 18 majors?"
        ],
        [
         "49",
         "N37243",
         "finance",
         "finance-real-estate",
         "The 25 most desirable places to live in the US in 2019",
         "Check out where U.S. residents would live if they could."
        ]
       ],
       "shape": {
        "columns": 5,
        "rows": 51282
       }
      },
      "text/html": [
       "<div>\n",
       "<style scoped>\n",
       "    .dataframe tbody tr th:only-of-type {\n",
       "        vertical-align: middle;\n",
       "    }\n",
       "\n",
       "    .dataframe tbody tr th {\n",
       "        vertical-align: top;\n",
       "    }\n",
       "\n",
       "    .dataframe thead th {\n",
       "        text-align: right;\n",
       "    }\n",
       "</style>\n",
       "<table border=\"1\" class=\"dataframe\">\n",
       "  <thead>\n",
       "    <tr style=\"text-align: right;\">\n",
       "      <th></th>\n",
       "      <th>News ID</th>\n",
       "      <th>Category</th>\n",
       "      <th>SubCategory</th>\n",
       "      <th>Title</th>\n",
       "      <th>Abstract</th>\n",
       "    </tr>\n",
       "  </thead>\n",
       "  <tbody>\n",
       "    <tr>\n",
       "      <th>0</th>\n",
       "      <td>N55528</td>\n",
       "      <td>lifestyle</td>\n",
       "      <td>lifestyleroyals</td>\n",
       "      <td>The Brands Queen Elizabeth, Prince Charles, an...</td>\n",
       "      <td>Shop the notebooks, jackets, and more that the...</td>\n",
       "    </tr>\n",
       "    <tr>\n",
       "      <th>1</th>\n",
       "      <td>N19639</td>\n",
       "      <td>health</td>\n",
       "      <td>weightloss</td>\n",
       "      <td>50 Worst Habits For Belly Fat</td>\n",
       "      <td>These seemingly harmless habits are holding yo...</td>\n",
       "    </tr>\n",
       "    <tr>\n",
       "      <th>2</th>\n",
       "      <td>N61837</td>\n",
       "      <td>news</td>\n",
       "      <td>newsworld</td>\n",
       "      <td>The Cost of Trump's Aid Freeze in the Trenches...</td>\n",
       "      <td>Lt. Ivan Molchanets peeked over a parapet of s...</td>\n",
       "    </tr>\n",
       "    <tr>\n",
       "      <th>3</th>\n",
       "      <td>N53526</td>\n",
       "      <td>health</td>\n",
       "      <td>voices</td>\n",
       "      <td>I Was An NBA Wife. Here's How It Affected My M...</td>\n",
       "      <td>I felt like I was a fraud, and being an NBA wi...</td>\n",
       "    </tr>\n",
       "    <tr>\n",
       "      <th>4</th>\n",
       "      <td>N38324</td>\n",
       "      <td>health</td>\n",
       "      <td>medical</td>\n",
       "      <td>How to Get Rid of Skin Tags, According to a De...</td>\n",
       "      <td>They seem harmless, but there's a very good re...</td>\n",
       "    </tr>\n",
       "    <tr>\n",
       "      <th>...</th>\n",
       "      <td>...</td>\n",
       "      <td>...</td>\n",
       "      <td>...</td>\n",
       "      <td>...</td>\n",
       "      <td>...</td>\n",
       "    </tr>\n",
       "    <tr>\n",
       "      <th>51277</th>\n",
       "      <td>N16909</td>\n",
       "      <td>weather</td>\n",
       "      <td>weathertopstories</td>\n",
       "      <td>Adapting, Learning And Soul Searching: Reflect...</td>\n",
       "      <td>Woolsey Fire Anniversary: A community is forev...</td>\n",
       "    </tr>\n",
       "    <tr>\n",
       "      <th>51278</th>\n",
       "      <td>N47585</td>\n",
       "      <td>lifestyle</td>\n",
       "      <td>lifestylefamily</td>\n",
       "      <td>Family says 13-year-old Broadway star died fro...</td>\n",
       "      <td>NaN</td>\n",
       "    </tr>\n",
       "    <tr>\n",
       "      <th>51279</th>\n",
       "      <td>N7482</td>\n",
       "      <td>sports</td>\n",
       "      <td>more_sports</td>\n",
       "      <td>St. Dominic soccer player tries to kick cancer...</td>\n",
       "      <td>Sometimes, what happens on the sidelines can b...</td>\n",
       "    </tr>\n",
       "    <tr>\n",
       "      <th>51280</th>\n",
       "      <td>N34418</td>\n",
       "      <td>sports</td>\n",
       "      <td>soccer_epl</td>\n",
       "      <td>How the Sounders won MLS Cup</td>\n",
       "      <td>Mark, Jeremiah and Casey were so excited they ...</td>\n",
       "    </tr>\n",
       "    <tr>\n",
       "      <th>51281</th>\n",
       "      <td>N44276</td>\n",
       "      <td>autos</td>\n",
       "      <td>autossports</td>\n",
       "      <td>Best Sports Car Deals for October</td>\n",
       "      <td>NaN</td>\n",
       "    </tr>\n",
       "  </tbody>\n",
       "</table>\n",
       "<p>51282 rows × 5 columns</p>\n",
       "</div>"
      ],
      "text/plain": [
       "      News ID   Category        SubCategory  \\\n",
       "0      N55528  lifestyle    lifestyleroyals   \n",
       "1      N19639     health         weightloss   \n",
       "2      N61837       news          newsworld   \n",
       "3      N53526     health             voices   \n",
       "4      N38324     health            medical   \n",
       "...       ...        ...                ...   \n",
       "51277  N16909    weather  weathertopstories   \n",
       "51278  N47585  lifestyle    lifestylefamily   \n",
       "51279   N7482     sports        more_sports   \n",
       "51280  N34418     sports         soccer_epl   \n",
       "51281  N44276      autos        autossports   \n",
       "\n",
       "                                                   Title  \\\n",
       "0      The Brands Queen Elizabeth, Prince Charles, an...   \n",
       "1                          50 Worst Habits For Belly Fat   \n",
       "2      The Cost of Trump's Aid Freeze in the Trenches...   \n",
       "3      I Was An NBA Wife. Here's How It Affected My M...   \n",
       "4      How to Get Rid of Skin Tags, According to a De...   \n",
       "...                                                  ...   \n",
       "51277  Adapting, Learning And Soul Searching: Reflect...   \n",
       "51278  Family says 13-year-old Broadway star died fro...   \n",
       "51279  St. Dominic soccer player tries to kick cancer...   \n",
       "51280                       How the Sounders won MLS Cup   \n",
       "51281                  Best Sports Car Deals for October   \n",
       "\n",
       "                                                Abstract  \n",
       "0      Shop the notebooks, jackets, and more that the...  \n",
       "1      These seemingly harmless habits are holding yo...  \n",
       "2      Lt. Ivan Molchanets peeked over a parapet of s...  \n",
       "3      I felt like I was a fraud, and being an NBA wi...  \n",
       "4      They seem harmless, but there's a very good re...  \n",
       "...                                                  ...  \n",
       "51277  Woolsey Fire Anniversary: A community is forev...  \n",
       "51278                                                NaN  \n",
       "51279  Sometimes, what happens on the sidelines can b...  \n",
       "51280  Mark, Jeremiah and Casey were so excited they ...  \n",
       "51281                                                NaN  \n",
       "\n",
       "[51282 rows x 5 columns]"
      ]
     },
     "metadata": {},
     "output_type": "display_data"
    }
   ],
   "source": [
    "import os\n",
    "import glob\n",
    "import random\n",
    "import pandas as pd\n",
    "import datetime\n",
    "import tiktoken\n",
    "from collections import Counter, defaultdict\n",
    "from IPython.display import display, Markdown\n",
    "\n",
    "# user DF에서 History column과 Train column을 합쳐서 history로 사용\n",
    "file_name = \"MIND_LLM.tsv\"\n",
    "user = pd.read_csv(f'../../../data/LLM/{file_name}', sep='\\t', names=['User', 'History', 'Question'])\n",
    "\n",
    "NNR_news = pd.read_csv('../../../data/baseline/MIND_news.tsv', sep='\\t', names=['News ID','Category','SubCategory','Title','Abstract','URL','Title Entities','Abstract Entities'])\n",
    "NNR_news = NNR_news.drop(columns=['URL', 'Title Entities', 'Abstract Entities'])\n",
    "\n",
    "display(Markdown(\"### 1. user<hr/>\"))\n",
    "# display(user[user['User']==1]['Question'][0])\n",
    "display(user)\n",
    "display(Markdown(\"### 2. NNR_news<hr/>\"))\n",
    "display(NNR_news)"
   ]
  },
  {
   "cell_type": "code",
   "execution_count": 2,
   "metadata": {},
   "outputs": [
    {
     "data": {
      "text/plain": [
       "'N58584 N12900 N6233 N51706 N18777 N593 N16793 N846 N18285 N46846 N53436'"
      ]
     },
     "execution_count": 2,
     "metadata": {},
     "output_type": "execute_result"
    }
   ],
   "source": [
    "user[user['User']==1]['History'][0]"
   ]
  },
  {
   "cell_type": "code",
   "execution_count": 4,
   "metadata": {},
   "outputs": [
    {
     "name": "stdout",
     "output_type": "stream",
     "text": [
      "[History]\n",
      "1.  Prince William and Kate Middleton arrive in Pakistan for royal tour\n",
      "2.  See all the best photos of Prince William and Duchess Kate's royal tour of Pakistan\n",
      "3.  6 Signs You're Not Getting Enough Potassium\n",
      "4.  Man sets pet lion on electrician who tried to collect pay, police say\n",
      "5.  12 things that could save us money if we weren't lazy\n",
      "6.  Unprecedented movement detected on California earthquake fault capable of 8.0 temblor\n",
      "7.  France says foiled September 11-inspired attack\n",
      "8.  These 4 words are the key to becoming rich\n",
      "9.  7 Surprising Features That Boost Your Home Value\n",
      "10.  30 Funny Dog Photos You Need to See\n",
      "11.  This is the best exercise to pump up aging muscles\n",
      "12.  Bag Explodes While Being Loaded On Volaris Flight At Midway Airport\n",
      "13.  Reduce Stomach Bloating: 9 Daily Habits That Flatten Your Belly\n",
      "14.  Duchess Meghan Returns to Public Eye After Africa Tour Documentary Airs\n",
      "15.  Body of missing Alabama girl found; 2 being charged\n",
      "16.  Why Healthy People Faint and How to Treat Them\n",
      "17.  2 passengers, emotional support French bulldogs booted off Norwegian Air flight\n",
      "18.  10 Exercises You Should Never Do Again, According to Trainers\n",
      "19.  Six photographers share their favorite Audrey Hepburn images in a new book celebrating the Hollywood actress 26 years after her death\n",
      "20.  Florida needs python hunters. A man in Iran is one of thousands applying for the job\n",
      "21.  14 Bad Habits You Can Break Right Now to Live Your Best Life\n",
      "22.  What it's like to cook for Kate Middleton and Prince William, according to Giada De Laurentiis\n",
      "23.  5 signs it's time to find a new nail salon\n",
      "24.  Multiple Houses on Fire After Plane Crashes in NJ\n",
      "25.  Most adults over 50 would rather die than do this\n",
      "26.  4 Reasons You Should See Your Gynecologist Every Year\n",
      "27.  Heidi Klum's 2019 Halloween Costume Transformation Is Mind-Blowing   But, Like, What Is It?\n",
      "28.  Unexpected Signs of an Unhealthy Heart\n",
      "29.  Debunking the week's tabloid stories: Nov. 1, 2019\n",
      "30.  Meghan Markle Says She Doesn't Want People to Love Her, She Wants Them to Hear Her\n",
      "31.  24 Ways to Shrink Your Belly in 24 Hours\n",
      "32.  Here's Exactly What Kristen Bell Eats in a Day to Make 39 Look Like 29\n",
      "33.  My Doctors Told Me I Had IBS. 4 Years Later, I Found out It Was a Completely Different Disorder\n",
      "34.  Jess Lost 75 Pounds Without Counting Calories and Did This 1 Inspiring Thing Before Every Meal\n",
      "35.  Prince Harry Has the Sweetest Response When Young Student Calls Him Handsome During Japan Trip\n",
      "36.  Woman found dead in Ohio home was likely killed by her Great Danes, police say\n",
      "37.  The Water on These Airlines Is so Bad You Shouldn't Even Wash Your Hands With It, Study Finds\n",
      "38.  This is how much water you need to drink for weight loss\n",
      "39.  Elephant dies of 'exhaustion' from carrying tourists in Sri Lanka\n",
      "40.  This Simple Hack Will Keep Spiders Out of Your House\n",
      "41.  Family Members Plead for Help in Search for Missing Atlanta College Student: 'Just Come Home'\n",
      "42.  Prince Harry and Meghan Markle are taking a royal respite\n",
      "43.  Already 6 Months! Prince Harry, Duchess Meghan's Son Is Trying to Talk\n",
      "44.  Australian tourist killed by elephant in Namibia\n",
      "45.  Kate & Meghan Head to Separate Events in Gorgeous Blue Outfits\n",
      "\n",
      "[Question]\n",
      "1.  28 Simple Ways to Shrink Your Gut\n",
      "2.  Should You Try the Controversial Cabbage Soup Diet? See What Experts Have to Say\n",
      "3.  10 more bodies found at mass grave in Rocky Point, bringing total to 58, officials say\n",
      "4.  Roommate, her boyfriend charged in death of missing Atlanta student\n",
      "5.  Meghan Markle Chose a Chic Black Ensemble for Remembrance Sunday Services\n",
      "6.  College gymnast dies following training accident in Connecticut\n",
      "7.  51 children injured in chemical attack at China kindergarten\n",
      "8.  A former royal bodyguard shared the challenges that come with protecting the royal family\n",
      "9.  Doing This One Simple Thing Can Help You Make Fewer Mistakes\n",
      "10.  Meghan Markle and Prince Harry Won't Spend Christmas with Queen Elizabeth at Sandringham This Year\n",
      "11.  Jane Seymour, 68, claims many designers won't 'dress someone my age'\n",
      "12.  The Foolproof Ways Health Experts Avoid Getting Sick or Gaining Weight During the Holidays\n",
      "13.  How to prevent the flu, according to doctors\n",
      "14.  Ballet star, 100, shares optimism and other secrets to long life\n",
      "15.  Dog Throws A Total Tantrum When She Realizes Mom Wants To Take The Stairs\n",
      "16.  Meghan Markle Says That Archie Has Two Teeth and Is Crawling\n",
      "17.  28 Simple Ways to Shrink Your Gut\n",
      "18.  8 Things that Can Happen When You Don't Treat ADHD\n",
      "19.  Jennifer Lopez Debuted the Sleek Seasonal Bob You'll Want to Copy\n",
      "20.  The son of a Chinese billionaire has been banned from flying first class, playing golf, buying property, or going clubbing\n",
      "21.  Stella McCartney Deleted a Meghan Markle Instagram Post After Followers Called Her Out\n",
      "22.  They bought a 1 euro house in Italy -- here's what happened next\n"
     ]
    }
   ],
   "source": [
    "user_num = 2\n",
    "\n",
    "li = user[user['User']==user_num]['History'].iloc[0].split(' ')\n",
    "print('[History]')\n",
    "for i, num in enumerate(li):\n",
    "    print(f\"{i+1}. \",NNR_news[NNR_news['News ID']==num]['Title'].iloc[0])\n",
    "\n",
    "\n",
    "print('\\n[Question]')\n",
    "li = user[user['User']==user_num]['Question'].str.split().str[0].tolist()\n",
    "for i, num in enumerate(li):\n",
    "    print(f\"{i+1}. \",NNR_news[NNR_news['News ID']==num]['Title'].iloc[0])"
   ]
  },
  {
   "cell_type": "code",
   "execution_count": null,
   "metadata": {},
   "outputs": [],
   "source": []
  }
 ],
 "metadata": {
  "kernelspec": {
   "display_name": "coongya11",
   "language": "python",
   "name": "python3"
  },
  "language_info": {
   "codemirror_mode": {
    "name": "ipython",
    "version": 3
   },
   "file_extension": ".py",
   "mimetype": "text/x-python",
   "name": "python",
   "nbconvert_exporter": "python",
   "pygments_lexer": "ipython3",
   "version": "3.11.8"
  }
 },
 "nbformat": 4,
 "nbformat_minor": 2
}
