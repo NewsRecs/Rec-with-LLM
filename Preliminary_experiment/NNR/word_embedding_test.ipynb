{
 "cells": [
  {
   "cell_type": "code",
   "execution_count": null,
   "metadata": {},
   "outputs": [
    {
     "ename": "ValueError",
     "evalue": "can only convert an array of size 1 to a Python scalar",
     "output_type": "error",
     "traceback": [
      "\u001b[1;31m---------------------------------------------------------------------------\u001b[0m",
      "\u001b[1;31mValueError\u001b[0m                                Traceback (most recent call last)",
      "Input \u001b[1;32mIn [2]\u001b[0m, in \u001b[0;36m<cell line: 5>\u001b[1;34m()\u001b[0m\n\u001b[0;32m      3\u001b[0m \u001b[38;5;66;03m# 1. Embedding 파일 로드\u001b[39;00m\n\u001b[0;32m      4\u001b[0m embedding_file \u001b[38;5;241m=\u001b[39m \u001b[38;5;124m'\u001b[39m\u001b[38;5;124mAdressa_5w/train/pretrained_word_embedding.npy\u001b[39m\u001b[38;5;124m'\u001b[39m\n\u001b[1;32m----> 5\u001b[0m embedding_data \u001b[38;5;241m=\u001b[39m \u001b[43mnp\u001b[49m\u001b[38;5;241;43m.\u001b[39;49m\u001b[43mload\u001b[49m\u001b[43m(\u001b[49m\u001b[43membedding_file\u001b[49m\u001b[43m,\u001b[49m\u001b[43m \u001b[49m\u001b[43mallow_pickle\u001b[49m\u001b[38;5;241;43m=\u001b[39;49m\u001b[38;5;28;43;01mTrue\u001b[39;49;00m\u001b[43m)\u001b[49m\u001b[38;5;241;43m.\u001b[39;49m\u001b[43mitem\u001b[49m\u001b[43m(\u001b[49m\u001b[43m)\u001b[49m\n\u001b[0;32m      7\u001b[0m \u001b[38;5;66;03m# 2. 특정 단어의 임베딩 확인\u001b[39;00m\n\u001b[0;32m      8\u001b[0m \u001b[38;5;28;01mdef\u001b[39;00m \u001b[38;5;21mget_embedding\u001b[39m(word, embedding_dict):\n",
      "\u001b[1;31mValueError\u001b[0m: can only convert an array of size 1 to a Python scalar"
     ]
    }
   ],
   "source": [
    "import numpy as np\n",
    "\n",
    "# 1. Embedding 파일 로드\n",
    "embedding_file = 'Adressa_5w/train/pretrained_word_embedding.npy'\n",
    "embedding_data = np.load(embedding_file, allow_pickle=True).item()\n",
    "\n",
    "print('embedding load 완료료')\n",
    "\n",
    "# 2. 특정 단어의 임베딩 확인\n",
    "def get_embedding(word, embedding_dict):\n",
    "    if word in embedding_dict:\n",
    "        return embedding_dict[word]\n",
    "    else:\n",
    "        print(f\"'{word}' is not in the embedding vocabulary.\")\n",
    "        return None\n",
    "\n",
    "# 3. 원하는 단어의 임베딩 출력\n",
    "word = \"example\"  # 원하는 단어 입력\n",
    "embedding = get_embedding(word, embedding_data)\n",
    "if embedding is not None:\n",
    "    print(f\"Embedding for '{word}':\\n{embedding}\")\n",
    "\n",
    "# 4. 임베딩 시각화 (선택 사항, 고차원 데이터를 2D로 변환)\n",
    "import matplotlib.pyplot as plt\n",
    "from sklearn.decomposition import PCA\n",
    "\n",
    "def visualize_embedding(embedding_dict, words_to_plot):\n",
    "    embeddings = [embedding_dict[word] for word in words_to_plot if word in embedding_dict]\n",
    "    labels = [word for word in words_to_plot if word in embedding_dict]\n",
    "\n",
    "    if not embeddings:\n",
    "        print(\"No valid words to plot.\")\n",
    "        return\n",
    "\n",
    "    pca = PCA(n_components=2)\n",
    "    reduced_embeddings = pca.fit_transform(embeddings)\n",
    "\n",
    "    plt.figure(figsize=(8, 8))\n",
    "    for i, label in enumerate(labels):\n",
    "        x, y = reduced_embeddings[i]\n",
    "        plt.scatter(x, y)\n",
    "        plt.text(x + 0.01, y + 0.01, label, fontsize=9)\n",
    "\n",
    "    plt.title(\"Word Embeddings Visualization\")\n",
    "    plt.xlabel(\"PCA Component 1\")\n",
    "    plt.ylabel(\"PCA Component 2\")\n",
    "    plt.grid()\n",
    "    plt.show()\n",
    "\n",
    "# 예시: 특정 단어 목록 시각화\n",
    "words_to_visualize = [\"example\", \"word1\", \"word2\"]  # 원하는 단어 리스트\n",
    "visualize_embedding(embedding_data, words_to_visualize)\n"
   ]
  },
  {
   "cell_type": "code",
   "execution_count": 3,
   "metadata": {},
   "outputs": [
    {
     "name": "stdout",
     "output_type": "stream",
     "text": [
      "<class 'numpy.ndarray'>\n",
      "(330900, 100)\n",
      "[[ 0.03561393 -0.9042285   0.6011298  ...  0.65328263 -0.23773614\n",
      "   1.78360024]\n",
      " [ 0.032304   -0.166283   -0.121819   ...  0.630592    0.507518\n",
      "   0.043886  ]\n",
      " [-0.198488    0.02476    -0.049137   ...  0.396274    0.145413\n",
      "   0.122321  ]\n",
      " ...\n",
      " [-0.249138    0.483747    0.301163   ...  0.846662   -0.286319\n",
      "  -0.159658  ]\n",
      " [ 0.60820516  0.53529562  0.95823113 ...  0.45572418  2.00033025\n",
      "   0.77108663]\n",
      " [-0.115497   -0.036304    0.337637   ...  0.288403    0.179277\n",
      "  -0.075275  ]]\n"
     ]
    }
   ],
   "source": [
    "import numpy as np\n",
    "\n",
    "# 파일 로드\n",
    "embedding_file = 'Adressa_5w/train/pretrained_word_embedding.npy'\n",
    "embedding_data = np.load(embedding_file, allow_pickle=True)\n",
    "\n",
    "# 데이터 구조 확인\n",
    "print(type(embedding_data))\n",
    "print(embedding_data.shape)  # 배열의 크기 확인\n",
    "print(embedding_data)        # 데이터를 샘플로 출력"
   ]
  },
  {
   "cell_type": "code",
   "execution_count": null,
   "metadata": {},
   "outputs": [],
   "source": []
  }
 ],
 "metadata": {
  "kernelspec": {
   "display_name": "ssam_3.9",
   "language": "python",
   "name": "python3"
  },
  "language_info": {
   "codemirror_mode": {
    "name": "ipython",
    "version": 3
   },
   "file_extension": ".py",
   "mimetype": "text/x-python",
   "name": "python",
   "nbconvert_exporter": "python",
   "pygments_lexer": "ipython3",
   "version": "3.9.11"
  }
 },
 "nbformat": 4,
 "nbformat_minor": 2
}
